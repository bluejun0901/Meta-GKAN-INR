{
 "cells": [
  {
   "cell_type": "code",
   "execution_count": 1,
   "id": "f13a7bf0",
   "metadata": {},
   "outputs": [],
   "source": [
    "import os\n",
    "from pathlib import Path\n",
    "from dotenv import load_dotenv\n",
    "import json\n",
    "import matplotlib.pyplot as plt\n",
    "load_dotenv()\n",
    "\n",
    "PROJECT_ROOT = Path(os.getenv(\"PROJECT_ROOT\")).resolve() # type: ignore\n",
    "MODEL_ROOT = Path(os.getenv(\"MODEL_ROOT\")).resolve() # type: ignore\n",
    "IMAGE_ROOT = Path(os.getenv(\"IMAGE_ROOT\")).resolve() # type: ignore\n",
    "CONFIG_ROOT = Path(os.getenv(\"CONFIG_ROOT\")).resolve() # type: ignore\n",
    "LOG_ROOT = Path(os.getenv(\"LOG_ROOT\")).resolve() # type: ignore"
   ]
  },
  {
   "cell_type": "code",
   "execution_count": 2,
   "id": "66866288",
   "metadata": {},
   "outputs": [],
   "source": [
    "log_root = LOG_ROOT\n",
    "log_name = \"log1.json\"\n",
    "names = []\n",
    "steps = []\n",
    "psnrs = []\n",
    "\n",
    "for sub in sorted(log_root.iterdir()):\n",
    "    if sub.is_dir():\n",
    "        names.append(sub.name)\n",
    "        step = []\n",
    "        psnr = []\n",
    "        with open(sub / log_name, \"r\") as f:\n",
    "            log_data = json.load(f)\n",
    "            for k, v in log_data.items():\n",
    "                step.append(int(k))\n",
    "                psnr.append(float(v))\n",
    "        steps.append(step)\n",
    "        psnrs.append(psnr)"
   ]
  },
  {
   "cell_type": "code",
   "execution_count": 3,
   "id": "b811b0e4",
   "metadata": {},
   "outputs": [],
   "source": [
    "graph_dir = PROJECT_ROOT / \"graphs\"\n",
    "os.makedirs(graph_dir, exist_ok=True)"
   ]
  },
  {
   "cell_type": "code",
   "execution_count": null,
   "id": "1ae97bcc",
   "metadata": {},
   "outputs": [
    {
     "data": {
      "image/png": "[encoded data removed]",
      "text/plain": [
       "<Figure size 350x250 with 1 Axes>"
      ]
     },
     "metadata": {},
     "output_type": "display_data"
    }
   ],
   "source": [
    "for_paper = True\n",
    "\n",
    "if for_paper:\n",
    "    plt.rcParams.update({\n",
    "        \"font.family\": \"Times New Roman\",\n",
    "        \"font.size\": 9,\n",
    "        \"axes.labelsize\": 9,\n",
    "        \"xtick.labelsize\": 8,\n",
    "        \"ytick.labelsize\": 8,\n",
    "        \"legend.fontsize\": 8,\n",
    "        \"axes.unicode_minus\": False\n",
    "    })\n",
    "    figsize = (3.5, 2.5)   # 논문용 작은 사이즈 (inch)\n",
    "    alpha_raw = 0.15\n",
    "    lw = 1.0\n",
    "    add_grid = False\n",
    "    add_title = False\n",
    "else:\n",
    "    figsize = (10, 5)\n",
    "    alpha_raw = 0.2\n",
    "    lw = 1.8\n",
    "    add_grid = True\n",
    "    add_title = True\n",
    "\n",
    "plt.figure(figsize=figsize)\n",
    "for i in range(len(names)):\n",
    "    label = names[i].replace('_', ' ')\n",
    "    plt.plot(steps[i], psnrs[i], label=label, color=f\"C{i}\", linewidth=lw)\n",
    "\n",
    "plt.savefig(graph_dir / \"psnr_to_step.png\", dpi=300, bbox_inches='tight')"
   ]
  }
 ],
 "metadata": {
  "kernelspec": {
   "display_name": "meta_gkan_inr",
   "language": "python",
   "name": "python3"
  },
  "language_info": {
   "codemirror_mode": {
    "name": "ipython",
    "version": 3
   },
   "file_extension": ".py",
   "mimetype": "text/x-python",
   "name": "python",
   "nbconvert_exporter": "python",
   "pygments_lexer": "ipython3",
   "version": "3.11.0"
  }
 },
 "nbformat": 4,
 "nbformat_minor": 5
}
